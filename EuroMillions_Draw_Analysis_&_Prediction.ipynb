{
  "nbformat": 4,
  "nbformat_minor": 0,
  "metadata": {
    "colab": {
      "provenance": [],
      "authorship_tag": "ABX9TyONkVvVMiqwb9+rJVxN4Tfr",
      "include_colab_link": true
    },
    "kernelspec": {
      "name": "python3",
      "display_name": "Python 3"
    },
    "language_info": {
      "name": "python"
    }
  },
  "cells": [
    {
      "cell_type": "markdown",
      "metadata": {
        "id": "view-in-github",
        "colab_type": "text"
      },
      "source": [
        "<a href=\"https://colab.research.google.com/github/TeeshynaJ/Euromillions/blob/main/EuroMillions_Draw_Analysis_%26_Prediction.ipynb\" target=\"_parent\"><img src=\"https://colab.research.google.com/assets/colab-badge.svg\" alt=\"Open In Colab\"/></a>"
      ]
    },
    {
      "cell_type": "code",
      "execution_count": 3,
      "metadata": {
        "colab": {
          "base_uri": "https://localhost:8080/"
        },
        "id": "SWYoQGgGDYYl",
        "outputId": "a9913c73-edd0-469d-afa4-3ededf4a4957"
      },
      "outputs": [
        {
          "output_type": "stream",
          "name": "stdout",
          "text": [
            "EuroMillions Draw Analysis & Prediction\n",
            "A project to explore draw patterns, most/least frequent numbers, overdue numbers, and recent trends using historical data\n"
          ]
        }
      ],
      "source": [
        "print(\"EuroMillions Draw Analysis & Prediction\")\n",
        "print(\"A project to explore draw patterns, most/least frequent numbers, overdue numbers, and recent trends using historical data\")"
      ]
    },
    {
      "cell_type": "code",
      "source": [
        "import pandas as pd\n",
        "import numpy as np\n",
        "import matplotlib.pyplot as plt\n",
        "import seaborn as sns\n",
        "import datetime as dt\n",
        "df=pd.read_csv(\"eum_df.csv\")\n",
        "print(df.head())\n"
      ],
      "metadata": {
        "colab": {
          "base_uri": "https://localhost:8080/"
        },
        "collapsed": true,
        "id": "0Wv6HwgpE061",
        "outputId": "0a5a55fc-6601-4f82-c8be-826bf620f64a"
      },
      "execution_count": 44,
      "outputs": [
        {
          "output_type": "stream",
          "name": "stdout",
          "text": [
            "   DrawNumber    DrawDate  Ball1  Ball2  Ball3  Ball4  Ball5  LuckyStar1  \\\n",
            "0        1758  26-07-2024     35     37     23     19      4           8   \n",
            "1        1757  23-07-2024      8     10     16     34      4           8   \n",
            "2        1756  19-07-2024     44     22     35     48     15           6   \n",
            "3        1755  16-07-2024     39     35      2     36     32           7   \n",
            "4        1754  12-07-2024     12     39     24     25     18          10   \n",
            "\n",
            "   LuckyStar2                                 UKMillionaireMaker  ...  \\\n",
            "0           4                                                 []  ...   \n",
            "1           4                                      ['TWPB44366']  ...   \n",
            "2           7  ['JTNH57406', 'JVNV63400', 'TTNK08001', 'TVNS7...  ...   \n",
            "3           8                                      ['JSMX15976']  ...   \n",
            "4           8                                      ['MSMX51719']  ...   \n",
            "\n",
            "  Match_2_and_1_Star_TotalWinners Match_2_UKWinners  Match_2_PrizePerWinner  \\\n",
            "0                          459322               NaN                     NaN   \n",
            "1                          359529          195240.0                     2.7   \n",
            "2                          513956          377379.0                     3.1   \n",
            "3                          309957          179219.0                     3.5   \n",
            "4                          455333          307753.0                     2.5   \n",
            "\n",
            "   Match_2_UKPrizeFund  Match_2_TotalWinners  Totals_UKWinners  \\\n",
            "0                  NaN              975900.0               NaN   \n",
            "1             527148.0              731173.0          347657.0   \n",
            "2            1169874.9             1033719.0          644426.0   \n",
            "3             627266.5              619066.0          308348.0   \n",
            "4             769382.5             1112596.0          504606.0   \n",
            "\n",
            "   Totals_UKPrizeFund  Totals_TotalWinners   JackpotWinner_country  \\\n",
            "0                 NaN              1713072                  ['UK']   \n",
            "1           1274942.5              1301923                     NaN   \n",
            "2           2594454.3              1812344  ['France', 'Portugal']   \n",
            "3           1379217.4              1083409                     NaN   \n",
            "4           1936370.9              1807438                     NaN   \n",
            "\n",
            "   TicketPrice  \n",
            "0          2.5  \n",
            "1          2.5  \n",
            "2          2.5  \n",
            "3          2.5  \n",
            "4          2.5  \n",
            "\n",
            "[5 rows x 70 columns]\n"
          ]
        }
      ]
    },
    {
      "cell_type": "code",
      "source": [
        "#counting columns\n",
        "df.count()"
      ],
      "metadata": {
        "colab": {
          "base_uri": "https://localhost:8080/",
          "height": 458
        },
        "id": "DTqHXJA6GvIi",
        "outputId": "b72c9897-a407-40f4-caae-102d36b36601"
      },
      "execution_count": 45,
      "outputs": [
        {
          "output_type": "execute_result",
          "data": {
            "text/plain": [
              "DrawNumber               1758\n",
              "DrawDate                 1758\n",
              "Ball1                    1758\n",
              "Ball2                    1758\n",
              "Ball3                    1758\n",
              "                         ... \n",
              "Totals_UKWinners         1757\n",
              "Totals_UKPrizeFund       1757\n",
              "Totals_TotalWinners      1758\n",
              "JackpotWinner_country     421\n",
              "TicketPrice              1758\n",
              "Length: 70, dtype: int64"
            ],
            "text/html": [
              "<div>\n",
              "<style scoped>\n",
              "    .dataframe tbody tr th:only-of-type {\n",
              "        vertical-align: middle;\n",
              "    }\n",
              "\n",
              "    .dataframe tbody tr th {\n",
              "        vertical-align: top;\n",
              "    }\n",
              "\n",
              "    .dataframe thead th {\n",
              "        text-align: right;\n",
              "    }\n",
              "</style>\n",
              "<table border=\"1\" class=\"dataframe\">\n",
              "  <thead>\n",
              "    <tr style=\"text-align: right;\">\n",
              "      <th></th>\n",
              "      <th>0</th>\n",
              "    </tr>\n",
              "  </thead>\n",
              "  <tbody>\n",
              "    <tr>\n",
              "      <th>DrawNumber</th>\n",
              "      <td>1758</td>\n",
              "    </tr>\n",
              "    <tr>\n",
              "      <th>DrawDate</th>\n",
              "      <td>1758</td>\n",
              "    </tr>\n",
              "    <tr>\n",
              "      <th>Ball1</th>\n",
              "      <td>1758</td>\n",
              "    </tr>\n",
              "    <tr>\n",
              "      <th>Ball2</th>\n",
              "      <td>1758</td>\n",
              "    </tr>\n",
              "    <tr>\n",
              "      <th>Ball3</th>\n",
              "      <td>1758</td>\n",
              "    </tr>\n",
              "    <tr>\n",
              "      <th>...</th>\n",
              "      <td>...</td>\n",
              "    </tr>\n",
              "    <tr>\n",
              "      <th>Totals_UKWinners</th>\n",
              "      <td>1757</td>\n",
              "    </tr>\n",
              "    <tr>\n",
              "      <th>Totals_UKPrizeFund</th>\n",
              "      <td>1757</td>\n",
              "    </tr>\n",
              "    <tr>\n",
              "      <th>Totals_TotalWinners</th>\n",
              "      <td>1758</td>\n",
              "    </tr>\n",
              "    <tr>\n",
              "      <th>JackpotWinner_country</th>\n",
              "      <td>421</td>\n",
              "    </tr>\n",
              "    <tr>\n",
              "      <th>TicketPrice</th>\n",
              "      <td>1758</td>\n",
              "    </tr>\n",
              "  </tbody>\n",
              "</table>\n",
              "<p>70 rows × 1 columns</p>\n",
              "</div><br><label><b>dtype:</b> int64</label>"
            ]
          },
          "metadata": {},
          "execution_count": 45
        }
      ]
    },
    {
      "cell_type": "code",
      "source": [
        "#list all columns\n",
        "print(df.columns.tolist())\n"
      ],
      "metadata": {
        "colab": {
          "base_uri": "https://localhost:8080/"
        },
        "id": "EZAKfFEJHZau",
        "outputId": "fa4435f3-2a3b-461a-aba0-5665744fd033"
      },
      "execution_count": 46,
      "outputs": [
        {
          "output_type": "stream",
          "name": "stdout",
          "text": [
            "['DrawNumber', 'DrawDate', 'Ball1', 'Ball2', 'Ball3', 'Ball4', 'Ball5', 'LuckyStar1', 'LuckyStar2', 'UKMillionaireMaker', 'BallSet', 'DrawMachine', 'Match_5_and_2_Stars_roll', 'Match_5_and_2_Stars_UKWinners', 'Match_5_and_2_Stars_PrizePerWinner', 'Match_5_and_2_Stars_UKPrizeFund', 'Match_5_and_2_Stars_TotalWinners', 'Match_5_and_1_Star_UKWinners', 'Match_5_and_1_Star_PrizePerWinner', 'Match_5_and_1_Star_UKPrizeFund', 'Match_5_and_1_Star_TotalWinners', 'Match_5_UKWinners', 'Match_5_PrizePerWinner', 'Match_5_UKPrizeFund', 'Match_5_TotalWinners', 'Match_4_and_2_Stars_UKWinners', 'Match_4_and_2_Stars_PrizePerWinner', 'Match_4_and_2_Stars_UKPrizeFund', 'Match_4_and_2_Stars_TotalWinners', 'Match_4_and_1_Star_UKWinners', 'Match_4_and_1_Star_PrizePerWinner', 'Match_4_and_1_Star_UKPrizeFund', 'Match_4_and_1_Star_TotalWinners', 'Match_3_and_2_Stars_UKWinners', 'Match_3_and_2_Stars_PrizePerWinner', 'Match_3_and_2_Stars_UKPrizeFund', 'Match_3_and_2_Stars_TotalWinners', 'Match_4_UKWinners', 'Match_4_PrizePerWinner', 'Match_4_UKPrizeFund', 'Match_4_TotalWinners', 'Match_2_and_2_Stars_UKWinners', 'Match_2_and_2_Stars_PrizePerWinner', 'Match_2_and_2_Stars_UKPrizeFund', 'Match_2_and_2_Stars_TotalWinners', 'Match_3_and_1_Star_UKWinners', 'Match_3_and_1_Star_PrizePerWinner', 'Match_3_and_1_Star_UKPrizeFund', 'Match_3_and_1_Star_TotalWinners', 'Match_3_UKWinners', 'Match_3_PrizePerWinner', 'Match_3_UKPrizeFund', 'Match_3_TotalWinners', 'Match_1_and_2_Stars_UKWinners', 'Match_1_and_2_Stars_PrizePerWinner', 'Match_1_and_2_Stars_UKPrizeFund', 'Match_1_and_2_Stars_TotalWinners', 'Match_2_and_1_Star_UKWinners', 'Match_2_and_1_Star_PrizePerWinner', 'Match_2_and_1_Star_UKPrizeFund', 'Match_2_and_1_Star_TotalWinners', 'Match_2_UKWinners', 'Match_2_PrizePerWinner', 'Match_2_UKPrizeFund', 'Match_2_TotalWinners', 'Totals_UKWinners', 'Totals_UKPrizeFund', 'Totals_TotalWinners', 'JackpotWinner_country', 'TicketPrice']\n"
          ]
        }
      ]
    },
    {
      "cell_type": "code",
      "source": [
        "#remove unwanted columns\n",
        "#new_df=df.drop(['UKMillionaireMaker''TicketPrice'],axis=1) - too many columns in dataset.\n",
        "#Alternative way is using loc.\n",
        "\n",
        "start = df.columns.get_loc('UKMillionaireMaker')\n",
        "end=df.columns.get_loc('TicketPrice')+1\n",
        "new_df = df.drop(df.columns[start:end], axis=1)\n",
        "print(new_df.head())\n"
      ],
      "metadata": {
        "colab": {
          "base_uri": "https://localhost:8080/"
        },
        "id": "0HiqwEIpGUls",
        "outputId": "235ab385-b316-4b9f-e949-30e2910597e4"
      },
      "execution_count": 47,
      "outputs": [
        {
          "output_type": "stream",
          "name": "stdout",
          "text": [
            "   DrawNumber    DrawDate  Ball1  Ball2  Ball3  Ball4  Ball5  LuckyStar1  \\\n",
            "0        1758  26-07-2024     35     37     23     19      4           8   \n",
            "1        1757  23-07-2024      8     10     16     34      4           8   \n",
            "2        1756  19-07-2024     44     22     35     48     15           6   \n",
            "3        1755  16-07-2024     39     35      2     36     32           7   \n",
            "4        1754  12-07-2024     12     39     24     25     18          10   \n",
            "\n",
            "   LuckyStar2  \n",
            "0           4  \n",
            "1           4  \n",
            "2           7  \n",
            "3           8  \n",
            "4           8  \n"
          ]
        }
      ]
    },
    {
      "cell_type": "code",
      "source": [
        "#Check for null\n",
        "print(new_df.isnull().sum())"
      ],
      "metadata": {
        "colab": {
          "base_uri": "https://localhost:8080/"
        },
        "id": "a8rdImsLJq7B",
        "outputId": "ea6d167c-c79d-4bf4-ebba-d79177af3cd4"
      },
      "execution_count": 48,
      "outputs": [
        {
          "output_type": "stream",
          "name": "stdout",
          "text": [
            "DrawNumber    0\n",
            "DrawDate      0\n",
            "Ball1         0\n",
            "Ball2         0\n",
            "Ball3         0\n",
            "Ball4         0\n",
            "Ball5         0\n",
            "LuckyStar1    0\n",
            "LuckyStar2    0\n",
            "dtype: int64\n"
          ]
        }
      ]
    },
    {
      "cell_type": "code",
      "source": [
        "new_df.drop(\"DrawNumber\",axis=1,inplace=True) #modifies original dataframe"
      ],
      "metadata": {
        "id": "T7CXuNFSK1HO"
      },
      "execution_count": 49,
      "outputs": []
    },
    {
      "cell_type": "code",
      "source": [
        "new_df.head()"
      ],
      "metadata": {
        "colab": {
          "base_uri": "https://localhost:8080/",
          "height": 206
        },
        "collapsed": true,
        "id": "20KyH5C1LRdY",
        "outputId": "35df591f-0916-4d89-c56f-aabf17ed643d"
      },
      "execution_count": 50,
      "outputs": [
        {
          "output_type": "execute_result",
          "data": {
            "text/plain": [
              "     DrawDate  Ball1  Ball2  Ball3  Ball4  Ball5  LuckyStar1  LuckyStar2\n",
              "0  26-07-2024     35     37     23     19      4           8           4\n",
              "1  23-07-2024      8     10     16     34      4           8           4\n",
              "2  19-07-2024     44     22     35     48     15           6           7\n",
              "3  16-07-2024     39     35      2     36     32           7           8\n",
              "4  12-07-2024     12     39     24     25     18          10           8"
            ],
            "text/html": [
              "\n",
              "  <div id=\"df-0ec156b5-0346-4ea8-a3e8-5c1f21040aa8\" class=\"colab-df-container\">\n",
              "    <div>\n",
              "<style scoped>\n",
              "    .dataframe tbody tr th:only-of-type {\n",
              "        vertical-align: middle;\n",
              "    }\n",
              "\n",
              "    .dataframe tbody tr th {\n",
              "        vertical-align: top;\n",
              "    }\n",
              "\n",
              "    .dataframe thead th {\n",
              "        text-align: right;\n",
              "    }\n",
              "</style>\n",
              "<table border=\"1\" class=\"dataframe\">\n",
              "  <thead>\n",
              "    <tr style=\"text-align: right;\">\n",
              "      <th></th>\n",
              "      <th>DrawDate</th>\n",
              "      <th>Ball1</th>\n",
              "      <th>Ball2</th>\n",
              "      <th>Ball3</th>\n",
              "      <th>Ball4</th>\n",
              "      <th>Ball5</th>\n",
              "      <th>LuckyStar1</th>\n",
              "      <th>LuckyStar2</th>\n",
              "    </tr>\n",
              "  </thead>\n",
              "  <tbody>\n",
              "    <tr>\n",
              "      <th>0</th>\n",
              "      <td>26-07-2024</td>\n",
              "      <td>35</td>\n",
              "      <td>37</td>\n",
              "      <td>23</td>\n",
              "      <td>19</td>\n",
              "      <td>4</td>\n",
              "      <td>8</td>\n",
              "      <td>4</td>\n",
              "    </tr>\n",
              "    <tr>\n",
              "      <th>1</th>\n",
              "      <td>23-07-2024</td>\n",
              "      <td>8</td>\n",
              "      <td>10</td>\n",
              "      <td>16</td>\n",
              "      <td>34</td>\n",
              "      <td>4</td>\n",
              "      <td>8</td>\n",
              "      <td>4</td>\n",
              "    </tr>\n",
              "    <tr>\n",
              "      <th>2</th>\n",
              "      <td>19-07-2024</td>\n",
              "      <td>44</td>\n",
              "      <td>22</td>\n",
              "      <td>35</td>\n",
              "      <td>48</td>\n",
              "      <td>15</td>\n",
              "      <td>6</td>\n",
              "      <td>7</td>\n",
              "    </tr>\n",
              "    <tr>\n",
              "      <th>3</th>\n",
              "      <td>16-07-2024</td>\n",
              "      <td>39</td>\n",
              "      <td>35</td>\n",
              "      <td>2</td>\n",
              "      <td>36</td>\n",
              "      <td>32</td>\n",
              "      <td>7</td>\n",
              "      <td>8</td>\n",
              "    </tr>\n",
              "    <tr>\n",
              "      <th>4</th>\n",
              "      <td>12-07-2024</td>\n",
              "      <td>12</td>\n",
              "      <td>39</td>\n",
              "      <td>24</td>\n",
              "      <td>25</td>\n",
              "      <td>18</td>\n",
              "      <td>10</td>\n",
              "      <td>8</td>\n",
              "    </tr>\n",
              "  </tbody>\n",
              "</table>\n",
              "</div>\n",
              "    <div class=\"colab-df-buttons\">\n",
              "\n",
              "  <div class=\"colab-df-container\">\n",
              "    <button class=\"colab-df-convert\" onclick=\"convertToInteractive('df-0ec156b5-0346-4ea8-a3e8-5c1f21040aa8')\"\n",
              "            title=\"Convert this dataframe to an interactive table.\"\n",
              "            style=\"display:none;\">\n",
              "\n",
              "  <svg xmlns=\"http://www.w3.org/2000/svg\" height=\"24px\" viewBox=\"0 -960 960 960\">\n",
              "    <path d=\"M120-120v-720h720v720H120Zm60-500h600v-160H180v160Zm220 220h160v-160H400v160Zm0 220h160v-160H400v160ZM180-400h160v-160H180v160Zm440 0h160v-160H620v160ZM180-180h160v-160H180v160Zm440 0h160v-160H620v160Z\"/>\n",
              "  </svg>\n",
              "    </button>\n",
              "\n",
              "  <style>\n",
              "    .colab-df-container {\n",
              "      display:flex;\n",
              "      gap: 12px;\n",
              "    }\n",
              "\n",
              "    .colab-df-convert {\n",
              "      background-color: #E8F0FE;\n",
              "      border: none;\n",
              "      border-radius: 50%;\n",
              "      cursor: pointer;\n",
              "      display: none;\n",
              "      fill: #1967D2;\n",
              "      height: 32px;\n",
              "      padding: 0 0 0 0;\n",
              "      width: 32px;\n",
              "    }\n",
              "\n",
              "    .colab-df-convert:hover {\n",
              "      background-color: #E2EBFA;\n",
              "      box-shadow: 0px 1px 2px rgba(60, 64, 67, 0.3), 0px 1px 3px 1px rgba(60, 64, 67, 0.15);\n",
              "      fill: #174EA6;\n",
              "    }\n",
              "\n",
              "    .colab-df-buttons div {\n",
              "      margin-bottom: 4px;\n",
              "    }\n",
              "\n",
              "    [theme=dark] .colab-df-convert {\n",
              "      background-color: #3B4455;\n",
              "      fill: #D2E3FC;\n",
              "    }\n",
              "\n",
              "    [theme=dark] .colab-df-convert:hover {\n",
              "      background-color: #434B5C;\n",
              "      box-shadow: 0px 1px 3px 1px rgba(0, 0, 0, 0.15);\n",
              "      filter: drop-shadow(0px 1px 2px rgba(0, 0, 0, 0.3));\n",
              "      fill: #FFFFFF;\n",
              "    }\n",
              "  </style>\n",
              "\n",
              "    <script>\n",
              "      const buttonEl =\n",
              "        document.querySelector('#df-0ec156b5-0346-4ea8-a3e8-5c1f21040aa8 button.colab-df-convert');\n",
              "      buttonEl.style.display =\n",
              "        google.colab.kernel.accessAllowed ? 'block' : 'none';\n",
              "\n",
              "      async function convertToInteractive(key) {\n",
              "        const element = document.querySelector('#df-0ec156b5-0346-4ea8-a3e8-5c1f21040aa8');\n",
              "        const dataTable =\n",
              "          await google.colab.kernel.invokeFunction('convertToInteractive',\n",
              "                                                    [key], {});\n",
              "        if (!dataTable) return;\n",
              "\n",
              "        const docLinkHtml = 'Like what you see? Visit the ' +\n",
              "          '<a target=\"_blank\" href=https://colab.research.google.com/notebooks/data_table.ipynb>data table notebook</a>'\n",
              "          + ' to learn more about interactive tables.';\n",
              "        element.innerHTML = '';\n",
              "        dataTable['output_type'] = 'display_data';\n",
              "        await google.colab.output.renderOutput(dataTable, element);\n",
              "        const docLink = document.createElement('div');\n",
              "        docLink.innerHTML = docLinkHtml;\n",
              "        element.appendChild(docLink);\n",
              "      }\n",
              "    </script>\n",
              "  </div>\n",
              "\n",
              "\n",
              "    <div id=\"df-b04e05b8-da90-463c-97cf-2f705b7871a8\">\n",
              "      <button class=\"colab-df-quickchart\" onclick=\"quickchart('df-b04e05b8-da90-463c-97cf-2f705b7871a8')\"\n",
              "                title=\"Suggest charts\"\n",
              "                style=\"display:none;\">\n",
              "\n",
              "<svg xmlns=\"http://www.w3.org/2000/svg\" height=\"24px\"viewBox=\"0 0 24 24\"\n",
              "     width=\"24px\">\n",
              "    <g>\n",
              "        <path d=\"M19 3H5c-1.1 0-2 .9-2 2v14c0 1.1.9 2 2 2h14c1.1 0 2-.9 2-2V5c0-1.1-.9-2-2-2zM9 17H7v-7h2v7zm4 0h-2V7h2v10zm4 0h-2v-4h2v4z\"/>\n",
              "    </g>\n",
              "</svg>\n",
              "      </button>\n",
              "\n",
              "<style>\n",
              "  .colab-df-quickchart {\n",
              "      --bg-color: #E8F0FE;\n",
              "      --fill-color: #1967D2;\n",
              "      --hover-bg-color: #E2EBFA;\n",
              "      --hover-fill-color: #174EA6;\n",
              "      --disabled-fill-color: #AAA;\n",
              "      --disabled-bg-color: #DDD;\n",
              "  }\n",
              "\n",
              "  [theme=dark] .colab-df-quickchart {\n",
              "      --bg-color: #3B4455;\n",
              "      --fill-color: #D2E3FC;\n",
              "      --hover-bg-color: #434B5C;\n",
              "      --hover-fill-color: #FFFFFF;\n",
              "      --disabled-bg-color: #3B4455;\n",
              "      --disabled-fill-color: #666;\n",
              "  }\n",
              "\n",
              "  .colab-df-quickchart {\n",
              "    background-color: var(--bg-color);\n",
              "    border: none;\n",
              "    border-radius: 50%;\n",
              "    cursor: pointer;\n",
              "    display: none;\n",
              "    fill: var(--fill-color);\n",
              "    height: 32px;\n",
              "    padding: 0;\n",
              "    width: 32px;\n",
              "  }\n",
              "\n",
              "  .colab-df-quickchart:hover {\n",
              "    background-color: var(--hover-bg-color);\n",
              "    box-shadow: 0 1px 2px rgba(60, 64, 67, 0.3), 0 1px 3px 1px rgba(60, 64, 67, 0.15);\n",
              "    fill: var(--button-hover-fill-color);\n",
              "  }\n",
              "\n",
              "  .colab-df-quickchart-complete:disabled,\n",
              "  .colab-df-quickchart-complete:disabled:hover {\n",
              "    background-color: var(--disabled-bg-color);\n",
              "    fill: var(--disabled-fill-color);\n",
              "    box-shadow: none;\n",
              "  }\n",
              "\n",
              "  .colab-df-spinner {\n",
              "    border: 2px solid var(--fill-color);\n",
              "    border-color: transparent;\n",
              "    border-bottom-color: var(--fill-color);\n",
              "    animation:\n",
              "      spin 1s steps(1) infinite;\n",
              "  }\n",
              "\n",
              "  @keyframes spin {\n",
              "    0% {\n",
              "      border-color: transparent;\n",
              "      border-bottom-color: var(--fill-color);\n",
              "      border-left-color: var(--fill-color);\n",
              "    }\n",
              "    20% {\n",
              "      border-color: transparent;\n",
              "      border-left-color: var(--fill-color);\n",
              "      border-top-color: var(--fill-color);\n",
              "    }\n",
              "    30% {\n",
              "      border-color: transparent;\n",
              "      border-left-color: var(--fill-color);\n",
              "      border-top-color: var(--fill-color);\n",
              "      border-right-color: var(--fill-color);\n",
              "    }\n",
              "    40% {\n",
              "      border-color: transparent;\n",
              "      border-right-color: var(--fill-color);\n",
              "      border-top-color: var(--fill-color);\n",
              "    }\n",
              "    60% {\n",
              "      border-color: transparent;\n",
              "      border-right-color: var(--fill-color);\n",
              "    }\n",
              "    80% {\n",
              "      border-color: transparent;\n",
              "      border-right-color: var(--fill-color);\n",
              "      border-bottom-color: var(--fill-color);\n",
              "    }\n",
              "    90% {\n",
              "      border-color: transparent;\n",
              "      border-bottom-color: var(--fill-color);\n",
              "    }\n",
              "  }\n",
              "</style>\n",
              "\n",
              "      <script>\n",
              "        async function quickchart(key) {\n",
              "          const quickchartButtonEl =\n",
              "            document.querySelector('#' + key + ' button');\n",
              "          quickchartButtonEl.disabled = true;  // To prevent multiple clicks.\n",
              "          quickchartButtonEl.classList.add('colab-df-spinner');\n",
              "          try {\n",
              "            const charts = await google.colab.kernel.invokeFunction(\n",
              "                'suggestCharts', [key], {});\n",
              "          } catch (error) {\n",
              "            console.error('Error during call to suggestCharts:', error);\n",
              "          }\n",
              "          quickchartButtonEl.classList.remove('colab-df-spinner');\n",
              "          quickchartButtonEl.classList.add('colab-df-quickchart-complete');\n",
              "        }\n",
              "        (() => {\n",
              "          let quickchartButtonEl =\n",
              "            document.querySelector('#df-b04e05b8-da90-463c-97cf-2f705b7871a8 button');\n",
              "          quickchartButtonEl.style.display =\n",
              "            google.colab.kernel.accessAllowed ? 'block' : 'none';\n",
              "        })();\n",
              "      </script>\n",
              "    </div>\n",
              "\n",
              "    </div>\n",
              "  </div>\n"
            ],
            "application/vnd.google.colaboratory.intrinsic+json": {
              "type": "dataframe",
              "variable_name": "new_df",
              "summary": "{\n  \"name\": \"new_df\",\n  \"rows\": 1758,\n  \"fields\": [\n    {\n      \"column\": \"DrawDate\",\n      \"properties\": {\n        \"dtype\": \"object\",\n        \"num_unique_values\": 1758,\n        \"samples\": [\n          \"15-10-2013\",\n          \"12-09-2014\",\n          \"01-01-2010\"\n        ],\n        \"semantic_type\": \"\",\n        \"description\": \"\"\n      }\n    },\n    {\n      \"column\": \"Ball1\",\n      \"properties\": {\n        \"dtype\": \"number\",\n        \"std\": 14,\n        \"min\": 1,\n        \"max\": 50,\n        \"num_unique_values\": 50,\n        \"samples\": [\n          48,\n          3,\n          20\n        ],\n        \"semantic_type\": \"\",\n        \"description\": \"\"\n      }\n    },\n    {\n      \"column\": \"Ball2\",\n      \"properties\": {\n        \"dtype\": \"number\",\n        \"std\": 14,\n        \"min\": 1,\n        \"max\": 50,\n        \"num_unique_values\": 50,\n        \"samples\": [\n          26,\n          6,\n          19\n        ],\n        \"semantic_type\": \"\",\n        \"description\": \"\"\n      }\n    },\n    {\n      \"column\": \"Ball3\",\n      \"properties\": {\n        \"dtype\": \"number\",\n        \"std\": 14,\n        \"min\": 1,\n        \"max\": 50,\n        \"num_unique_values\": 50,\n        \"samples\": [\n          4,\n          20,\n          5\n        ],\n        \"semantic_type\": \"\",\n        \"description\": \"\"\n      }\n    },\n    {\n      \"column\": \"Ball4\",\n      \"properties\": {\n        \"dtype\": \"number\",\n        \"std\": 14,\n        \"min\": 1,\n        \"max\": 50,\n        \"num_unique_values\": 50,\n        \"samples\": [\n          9,\n          35,\n          44\n        ],\n        \"semantic_type\": \"\",\n        \"description\": \"\"\n      }\n    },\n    {\n      \"column\": \"Ball5\",\n      \"properties\": {\n        \"dtype\": \"number\",\n        \"std\": 14,\n        \"min\": 1,\n        \"max\": 50,\n        \"num_unique_values\": 50,\n        \"samples\": [\n          14,\n          25,\n          46\n        ],\n        \"semantic_type\": \"\",\n        \"description\": \"\"\n      }\n    },\n    {\n      \"column\": \"LuckyStar1\",\n      \"properties\": {\n        \"dtype\": \"number\",\n        \"std\": 3,\n        \"min\": 1,\n        \"max\": 12,\n        \"num_unique_values\": 12,\n        \"samples\": [\n          2,\n          9,\n          8\n        ],\n        \"semantic_type\": \"\",\n        \"description\": \"\"\n      }\n    },\n    {\n      \"column\": \"LuckyStar2\",\n      \"properties\": {\n        \"dtype\": \"number\",\n        \"std\": 3,\n        \"min\": 1,\n        \"max\": 12,\n        \"num_unique_values\": 12,\n        \"samples\": [\n          2,\n          10,\n          4\n        ],\n        \"semantic_type\": \"\",\n        \"description\": \"\"\n      }\n    }\n  ]\n}"
            }
          },
          "metadata": {},
          "execution_count": 50
        }
      ]
    },
    {
      "cell_type": "code",
      "source": [
        "new_df.count()"
      ],
      "metadata": {
        "colab": {
          "base_uri": "https://localhost:8080/",
          "height": 335
        },
        "id": "MPo-ov-OLi2f",
        "outputId": "3e45ec04-5fba-4bdb-e1c9-40bb5249942d"
      },
      "execution_count": 51,
      "outputs": [
        {
          "output_type": "execute_result",
          "data": {
            "text/plain": [
              "DrawDate      1758\n",
              "Ball1         1758\n",
              "Ball2         1758\n",
              "Ball3         1758\n",
              "Ball4         1758\n",
              "Ball5         1758\n",
              "LuckyStar1    1758\n",
              "LuckyStar2    1758\n",
              "dtype: int64"
            ],
            "text/html": [
              "<div>\n",
              "<style scoped>\n",
              "    .dataframe tbody tr th:only-of-type {\n",
              "        vertical-align: middle;\n",
              "    }\n",
              "\n",
              "    .dataframe tbody tr th {\n",
              "        vertical-align: top;\n",
              "    }\n",
              "\n",
              "    .dataframe thead th {\n",
              "        text-align: right;\n",
              "    }\n",
              "</style>\n",
              "<table border=\"1\" class=\"dataframe\">\n",
              "  <thead>\n",
              "    <tr style=\"text-align: right;\">\n",
              "      <th></th>\n",
              "      <th>0</th>\n",
              "    </tr>\n",
              "  </thead>\n",
              "  <tbody>\n",
              "    <tr>\n",
              "      <th>DrawDate</th>\n",
              "      <td>1758</td>\n",
              "    </tr>\n",
              "    <tr>\n",
              "      <th>Ball1</th>\n",
              "      <td>1758</td>\n",
              "    </tr>\n",
              "    <tr>\n",
              "      <th>Ball2</th>\n",
              "      <td>1758</td>\n",
              "    </tr>\n",
              "    <tr>\n",
              "      <th>Ball3</th>\n",
              "      <td>1758</td>\n",
              "    </tr>\n",
              "    <tr>\n",
              "      <th>Ball4</th>\n",
              "      <td>1758</td>\n",
              "    </tr>\n",
              "    <tr>\n",
              "      <th>Ball5</th>\n",
              "      <td>1758</td>\n",
              "    </tr>\n",
              "    <tr>\n",
              "      <th>LuckyStar1</th>\n",
              "      <td>1758</td>\n",
              "    </tr>\n",
              "    <tr>\n",
              "      <th>LuckyStar2</th>\n",
              "      <td>1758</td>\n",
              "    </tr>\n",
              "  </tbody>\n",
              "</table>\n",
              "</div><br><label><b>dtype:</b> int64</label>"
            ]
          },
          "metadata": {},
          "execution_count": 51
        }
      ]
    },
    {
      "cell_type": "code",
      "source": [
        "print(new_df['DrawDate'].dtype)\n"
      ],
      "metadata": {
        "colab": {
          "base_uri": "https://localhost:8080/"
        },
        "id": "LwEomBBoL5JC",
        "outputId": "d2967444-26b0-4db6-df4e-511dbcbd71d8"
      },
      "execution_count": 53,
      "outputs": [
        {
          "output_type": "stream",
          "name": "stdout",
          "text": [
            "object\n"
          ]
        }
      ]
    },
    {
      "cell_type": "code",
      "source": [
        "new_df['DrawDate'] = pd.to_datetime(new_df['DrawDate'], errors='coerce')\n"
      ],
      "metadata": {
        "colab": {
          "base_uri": "https://localhost:8080/"
        },
        "id": "0wga3mJoL-lu",
        "outputId": "2d9a993d-556a-4140-f5a7-99e1f021fd1c"
      },
      "execution_count": 55,
      "outputs": [
        {
          "output_type": "stream",
          "name": "stderr",
          "text": [
            "/tmp/ipython-input-55-1507294883.py:1: UserWarning: Parsing dates in %d-%m-%Y format when dayfirst=False (the default) was specified. Pass `dayfirst=True` or specify a format to silence this warning.\n",
            "  new_df['DrawDate'] = pd.to_datetime(new_df['DrawDate'], errors='coerce')\n"
          ]
        }
      ]
    },
    {
      "cell_type": "code",
      "source": [
        "print(new_df['DrawDate'].dtype)\n"
      ],
      "metadata": {
        "colab": {
          "base_uri": "https://localhost:8080/"
        },
        "id": "1KQ5CIlLMAPj",
        "outputId": "b1ff05f1-3229-4a2e-9969-300ff84ea5e1"
      },
      "execution_count": 56,
      "outputs": [
        {
          "output_type": "stream",
          "name": "stdout",
          "text": [
            "datetime64[ns]\n"
          ]
        }
      ]
    },
    {
      "cell_type": "code",
      "source": [
        "print(new_df.dtypes)"
      ],
      "metadata": {
        "colab": {
          "base_uri": "https://localhost:8080/"
        },
        "id": "f4jd7rpKMKd9",
        "outputId": "ddbc5324-b80e-450b-cfa1-529c6231f00c"
      },
      "execution_count": 57,
      "outputs": [
        {
          "output_type": "stream",
          "name": "stdout",
          "text": [
            "DrawDate      datetime64[ns]\n",
            "Ball1                  int64\n",
            "Ball2                  int64\n",
            "Ball3                  int64\n",
            "Ball4                  int64\n",
            "Ball5                  int64\n",
            "LuckyStar1             int64\n",
            "LuckyStar2             int64\n",
            "dtype: object\n"
          ]
        }
      ]
    },
    {
      "cell_type": "code",
      "source": [
        "#Data showing 10 years of records\n",
        "start_date = df['DrawDate'].min()\n",
        "end_date = df['DrawDate'].max()\n",
        "\n",
        "print(\"Start date:\", start_date)\n",
        "print(\"End date:\", end_date)\n"
      ],
      "metadata": {
        "colab": {
          "base_uri": "https://localhost:8080/"
        },
        "id": "xTWrPPZXMKVP",
        "outputId": "6740dadd-108a-49a2-9a4d-96fddd07df11"
      },
      "execution_count": 59,
      "outputs": [
        {
          "output_type": "stream",
          "name": "stdout",
          "text": [
            "Start date: 2004-02-13 00:00:00\n",
            "End date: 2024-07-26 00:00:00\n"
          ]
        }
      ]
    },
    {
      "cell_type": "code",
      "source": [],
      "metadata": {
        "id": "OIgunabzNOpF"
      },
      "execution_count": null,
      "outputs": []
    },
    {
      "cell_type": "markdown",
      "source": [
        "**Second Dataset 2025**\n"
      ],
      "metadata": {
        "id": "ogRlgiLXJoN5"
      }
    },
    {
      "cell_type": "code",
      "source": [
        "df2=pd.read_csv('/content/euromillions-draw-history.csv')\n",
        "print(df2)"
      ],
      "metadata": {
        "colab": {
          "base_uri": "https://localhost:8080/"
        },
        "collapsed": true,
        "id": "KLaq_KnSJZ8-",
        "outputId": "c7faf55c-d623-4482-ee96-d38ff1aa4ef2"
      },
      "execution_count": 25,
      "outputs": [
        {
          "output_type": "stream",
          "name": "stdout",
          "text": [
            "       DrawDate  Ball 1  Ball 2  Ball 3  Ball 4  Ball 5  Lucky Star 1  \\\n",
            "0   15-Jul-2025      24      38      41      45      49             1   \n",
            "1   11-Jul-2025       8      23      24      45      49             2   \n",
            "2   08-Jul-2025       1       8       9      18      50             1   \n",
            "3   04-Jul-2025      19      29      42      45      48             5   \n",
            "4   01-Jul-2025       1      17      28      32      34             7   \n",
            "5   27-Jun-2025      19      27      36      45      49             7   \n",
            "6   24-Jun-2025       7      16      21      23      39             7   \n",
            "7   20-Jun-2025       5       8      24      37      47             3   \n",
            "8   17-Jun-2025      13      22      23      44      49             3   \n",
            "9   13-Jun-2025       2      28      40      43      45             3   \n",
            "10  10-Jun-2025      19      36      39      40      45             5   \n",
            "11  06-Jun-2025      20      21      29      30      35             2   \n",
            "12  03-Jun-2025      12      15      38      47      48             5   \n",
            "13  30-May-2025       4       7      14      33      36             1   \n",
            "14  27-May-2025      12      30      38      40      41             4   \n",
            "15  23-May-2025      10      29      43      46      49             7   \n",
            "16  20-May-2025       1       8      13      29      47             5   \n",
            "17  16-May-2025       6       9      25      37      46             6   \n",
            "18  13-May-2025       9      19      44      47      50             2   \n",
            "19  09-May-2025      15      18      25      29      47             5   \n",
            "20  06-May-2025       8      23      24      47      48             4   \n",
            "21  02-May-2025       3       5      19      21      49             1   \n",
            "22  29-Apr-2025       2       9      24      30      41             1   \n",
            "23  25-Apr-2025      13      22      32      39      41             1   \n",
            "24  22-Apr-2025       7      28      33      37      47             9   \n",
            "25  18-Apr-2025      20      27      35      39      48             3   \n",
            "26  15-Apr-2025       3      31      33      38      44             6   \n",
            "27  11-Apr-2025      14      28      34      46      49             3   \n",
            "28  08-Apr-2025       3      14      15      48      49             1   \n",
            "29  04-Apr-2025      27      39      41      45      50             5   \n",
            "30  01-Apr-2025       9      24      30      46      49             4   \n",
            "31  28-Mar-2025      10      21      30      42      45             1   \n",
            "32  25-Mar-2025       1       3      18      33      36             2   \n",
            "33  21-Mar-2025       9      17      18      21      50             5   \n",
            "34  18-Mar-2025       4       9      35      46      50             8   \n",
            "35  14-Mar-2025       8      10      33      35      49             2   \n",
            "36  11-Mar-2025      13      36      37      42      47             7   \n",
            "37  07-Mar-2025       6      10      27      32      48             3   \n",
            "38  04-Mar-2025      15      20      29      35      42             2   \n",
            "39  28-Feb-2025       7      16      31      43      46             5   \n",
            "40  25-Feb-2025      17      22      23      24      44             6   \n",
            "41  21-Feb-2025       1       3      11      20      43             2   \n",
            "42  18-Feb-2025       5      14      25      26      40             5   \n",
            "43  14-Feb-2025       4      14      31      36      38             3   \n",
            "44  11-Feb-2025       3      21      36      41      46             1   \n",
            "45  07-Feb-2025      10      23      24      29      45             8   \n",
            "46  04-Feb-2025       3       4      29      39      43             5   \n",
            "47  31-Jan-2025      22      30      41      44      49             2   \n",
            "48  28-Jan-2025       9      37      41      42      49             1   \n",
            "49  24-Jan-2025       2      11      19      30      49             3   \n",
            "50  21-Jan-2025       6       8      14      27      41             4   \n",
            "\n",
            "    Lucky Star 2                               UK Millionaire Maker  \\\n",
            "0              6                                          XZHL02876   \n",
            "1             10                                          TXGS29255   \n",
            "2              5                                          MSDV09512   \n",
            "3              7                                          XTFM90593   \n",
            "4              8                                          ZTFH41326   \n",
            "5             10                                          XSFF39672   \n",
            "6             11                                          MQDD67764   \n",
            "7              9                                          JQDG19394   \n",
            "8              5                                          XPCD66044   \n",
            "9              7  HMZR34844,HNBG00357,HNBR22291,HNBZ00729,HNZR99...   \n",
            "10             6                                          HMXQ77424   \n",
            "11            12                                          VLWS75031   \n",
            "12             7                                          HKVV08213   \n",
            "13             5                                          MJTF42151   \n",
            "14            12                                          XHSR16699   \n",
            "15            12                                          MDQK77569   \n",
            "16             6                                          TXNL48795   \n",
            "17            12                                          ZDQK29611   \n",
            "18             9                                          MCPZ71386   \n",
            "19             9                                          ZBPQ30068   \n",
            "20             9                                          MZNV58220   \n",
            "21            10  HXNR64959,MWMQ34132,MXND70116,MXNN83635,TXNF71...   \n",
            "22            11                                          ZWMS62356   \n",
            "23            12                                          VVMJ17683   \n",
            "24            12                                          MTMD30090   \n",
            "25             8                                          ZRKZ79394   \n",
            "26            12                                          MRLH58692   \n",
            "27             8                                          XQKQ97029   \n",
            "28             7                                          HPKS89737   \n",
            "29             7                                          TNKB70417   \n",
            "30            12                                          ZMJR93122   \n",
            "31             9                                          HLHV99083   \n",
            "32             6                                          MKHJ22564   \n",
            "33            12                                          MJFW44014   \n",
            "34            11                                          HHFG17793   \n",
            "35             9                                          JGDK20551   \n",
            "36            11                                          HFDH83622   \n",
            "37             8                                          JCBN45959   \n",
            "38             9                                          MCBT27736   \n",
            "39             9                                          ZWZD80407   \n",
            "40            11                                          HZBB98633   \n",
            "41            11                                          XXZQ38966   \n",
            "42             7                                          ZWZH28008   \n",
            "43            10  HVXX35391,HVXZ64951,JTXJ35656,MTXD66106,MVXX07...   \n",
            "44             6                                          HTXG00209   \n",
            "45            10                                          ZSWQ19699   \n",
            "46            10                                          XRWK86561   \n",
            "47             7                                          MQVW10303   \n",
            "48             9                                          TMTL79764   \n",
            "49             8                                          JNTX26814   \n",
            "50             5                                          TMTL77973   \n",
            "\n",
            "    DrawNumber  \n",
            "0         1859  \n",
            "1         1858  \n",
            "2         1857  \n",
            "3         1856  \n",
            "4         1855  \n",
            "5         1854  \n",
            "6         1853  \n",
            "7         1852  \n",
            "8         1851  \n",
            "9         1850  \n",
            "10        1849  \n",
            "11        1848  \n",
            "12        1847  \n",
            "13        1846  \n",
            "14        1845  \n",
            "15        1844  \n",
            "16        1843  \n",
            "17        1842  \n",
            "18        1841  \n",
            "19        1840  \n",
            "20        1839  \n",
            "21        1838  \n",
            "22        1837  \n",
            "23        1836  \n",
            "24        1835  \n",
            "25        1834  \n",
            "26        1833  \n",
            "27        1832  \n",
            "28        1831  \n",
            "29        1830  \n",
            "30        1829  \n",
            "31        1828  \n",
            "32        1827  \n",
            "33        1826  \n",
            "34        1825  \n",
            "35        1824  \n",
            "36        1823  \n",
            "37        1822  \n",
            "38        1821  \n",
            "39        1820  \n",
            "40        1819  \n",
            "41        1818  \n",
            "42        1817  \n",
            "43        1816  \n",
            "44        1815  \n",
            "45        1814  \n",
            "46        1813  \n",
            "47        1812  \n",
            "48        1811  \n",
            "49        1810  \n",
            "50        1809  \n"
          ]
        }
      ]
    },
    {
      "cell_type": "code",
      "source": [
        "#List the columns\n",
        "print(df2.columns.tolist())"
      ],
      "metadata": {
        "colab": {
          "base_uri": "https://localhost:8080/"
        },
        "id": "uiGjz61DKYDU",
        "outputId": "e79906a8-32b0-49a6-b890-db7502d88c87"
      },
      "execution_count": 60,
      "outputs": [
        {
          "output_type": "stream",
          "name": "stdout",
          "text": [
            "['DrawDate', 'Ball 1', 'Ball 2', 'Ball 3', 'Ball 4', 'Ball 5', 'Lucky Star 1', 'Lucky Star 2', 'UK Millionaire Maker', 'DrawNumber']\n"
          ]
        }
      ]
    },
    {
      "cell_type": "code",
      "source": [
        "print(df2.dtypes)"
      ],
      "metadata": {
        "colab": {
          "base_uri": "https://localhost:8080/"
        },
        "id": "6pQysTPINb0B",
        "outputId": "a0b54acd-c88e-4a4f-fce6-0f1bd9d73462"
      },
      "execution_count": 62,
      "outputs": [
        {
          "output_type": "stream",
          "name": "stdout",
          "text": [
            "DrawDate                object\n",
            "Ball 1                   int64\n",
            "Ball 2                   int64\n",
            "Ball 3                   int64\n",
            "Ball 4                   int64\n",
            "Ball 5                   int64\n",
            "Lucky Star 1             int64\n",
            "Lucky Star 2             int64\n",
            "UK Millionaire Maker    object\n",
            "DrawNumber               int64\n",
            "dtype: object\n"
          ]
        }
      ]
    },
    {
      "cell_type": "code",
      "source": [
        "df2['DrawDate'] = pd.to_datetime(df2['DrawDate'])"
      ],
      "metadata": {
        "id": "M9R_DEFbNldZ"
      },
      "execution_count": 63,
      "outputs": []
    },
    {
      "cell_type": "code",
      "source": [
        "print(df2.dtypes)"
      ],
      "metadata": {
        "colab": {
          "base_uri": "https://localhost:8080/"
        },
        "id": "-phtwxZMPW1d",
        "outputId": "5bd5bf1e-8820-4073-f0fc-2cfdbaed2f5b"
      },
      "execution_count": 64,
      "outputs": [
        {
          "output_type": "stream",
          "name": "stdout",
          "text": [
            "DrawDate                datetime64[ns]\n",
            "Ball 1                           int64\n",
            "Ball 2                           int64\n",
            "Ball 3                           int64\n",
            "Ball 4                           int64\n",
            "Ball 5                           int64\n",
            "Lucky Star 1                     int64\n",
            "Lucky Star 2                     int64\n",
            "UK Millionaire Maker            object\n",
            "DrawNumber                       int64\n",
            "dtype: object\n"
          ]
        }
      ]
    },
    {
      "cell_type": "code",
      "source": [
        "df2 = df2.drop(['UK Millionaire Maker', 'DrawNumber'], axis=1)\n"
      ],
      "metadata": {
        "id": "PYPWVk8tQdvv"
      },
      "execution_count": 67,
      "outputs": []
    },
    {
      "cell_type": "code",
      "source": [
        "df2.head()"
      ],
      "metadata": {
        "colab": {
          "base_uri": "https://localhost:8080/",
          "height": 206
        },
        "id": "hUVD-_cSQoCB",
        "outputId": "15a3d488-2c59-4925-c8dd-8226a7716056"
      },
      "execution_count": 68,
      "outputs": [
        {
          "output_type": "execute_result",
          "data": {
            "text/plain": [
              "    DrawDate  Ball 1  Ball 2  Ball 3  Ball 4  Ball 5  Lucky Star 1  \\\n",
              "0 2025-07-15      24      38      41      45      49             1   \n",
              "1 2025-07-11       8      23      24      45      49             2   \n",
              "2 2025-07-08       1       8       9      18      50             1   \n",
              "3 2025-07-04      19      29      42      45      48             5   \n",
              "4 2025-07-01       1      17      28      32      34             7   \n",
              "\n",
              "   Lucky Star 2  \n",
              "0             6  \n",
              "1            10  \n",
              "2             5  \n",
              "3             7  \n",
              "4             8  "
            ],
            "text/html": [
              "\n",
              "  <div id=\"df-19f08039-bded-4df0-b02d-ca5995a7258e\" class=\"colab-df-container\">\n",
              "    <div>\n",
              "<style scoped>\n",
              "    .dataframe tbody tr th:only-of-type {\n",
              "        vertical-align: middle;\n",
              "    }\n",
              "\n",
              "    .dataframe tbody tr th {\n",
              "        vertical-align: top;\n",
              "    }\n",
              "\n",
              "    .dataframe thead th {\n",
              "        text-align: right;\n",
              "    }\n",
              "</style>\n",
              "<table border=\"1\" class=\"dataframe\">\n",
              "  <thead>\n",
              "    <tr style=\"text-align: right;\">\n",
              "      <th></th>\n",
              "      <th>DrawDate</th>\n",
              "      <th>Ball 1</th>\n",
              "      <th>Ball 2</th>\n",
              "      <th>Ball 3</th>\n",
              "      <th>Ball 4</th>\n",
              "      <th>Ball 5</th>\n",
              "      <th>Lucky Star 1</th>\n",
              "      <th>Lucky Star 2</th>\n",
              "    </tr>\n",
              "  </thead>\n",
              "  <tbody>\n",
              "    <tr>\n",
              "      <th>0</th>\n",
              "      <td>2025-07-15</td>\n",
              "      <td>24</td>\n",
              "      <td>38</td>\n",
              "      <td>41</td>\n",
              "      <td>45</td>\n",
              "      <td>49</td>\n",
              "      <td>1</td>\n",
              "      <td>6</td>\n",
              "    </tr>\n",
              "    <tr>\n",
              "      <th>1</th>\n",
              "      <td>2025-07-11</td>\n",
              "      <td>8</td>\n",
              "      <td>23</td>\n",
              "      <td>24</td>\n",
              "      <td>45</td>\n",
              "      <td>49</td>\n",
              "      <td>2</td>\n",
              "      <td>10</td>\n",
              "    </tr>\n",
              "    <tr>\n",
              "      <th>2</th>\n",
              "      <td>2025-07-08</td>\n",
              "      <td>1</td>\n",
              "      <td>8</td>\n",
              "      <td>9</td>\n",
              "      <td>18</td>\n",
              "      <td>50</td>\n",
              "      <td>1</td>\n",
              "      <td>5</td>\n",
              "    </tr>\n",
              "    <tr>\n",
              "      <th>3</th>\n",
              "      <td>2025-07-04</td>\n",
              "      <td>19</td>\n",
              "      <td>29</td>\n",
              "      <td>42</td>\n",
              "      <td>45</td>\n",
              "      <td>48</td>\n",
              "      <td>5</td>\n",
              "      <td>7</td>\n",
              "    </tr>\n",
              "    <tr>\n",
              "      <th>4</th>\n",
              "      <td>2025-07-01</td>\n",
              "      <td>1</td>\n",
              "      <td>17</td>\n",
              "      <td>28</td>\n",
              "      <td>32</td>\n",
              "      <td>34</td>\n",
              "      <td>7</td>\n",
              "      <td>8</td>\n",
              "    </tr>\n",
              "  </tbody>\n",
              "</table>\n",
              "</div>\n",
              "    <div class=\"colab-df-buttons\">\n",
              "\n",
              "  <div class=\"colab-df-container\">\n",
              "    <button class=\"colab-df-convert\" onclick=\"convertToInteractive('df-19f08039-bded-4df0-b02d-ca5995a7258e')\"\n",
              "            title=\"Convert this dataframe to an interactive table.\"\n",
              "            style=\"display:none;\">\n",
              "\n",
              "  <svg xmlns=\"http://www.w3.org/2000/svg\" height=\"24px\" viewBox=\"0 -960 960 960\">\n",
              "    <path d=\"M120-120v-720h720v720H120Zm60-500h600v-160H180v160Zm220 220h160v-160H400v160Zm0 220h160v-160H400v160ZM180-400h160v-160H180v160Zm440 0h160v-160H620v160ZM180-180h160v-160H180v160Zm440 0h160v-160H620v160Z\"/>\n",
              "  </svg>\n",
              "    </button>\n",
              "\n",
              "  <style>\n",
              "    .colab-df-container {\n",
              "      display:flex;\n",
              "      gap: 12px;\n",
              "    }\n",
              "\n",
              "    .colab-df-convert {\n",
              "      background-color: #E8F0FE;\n",
              "      border: none;\n",
              "      border-radius: 50%;\n",
              "      cursor: pointer;\n",
              "      display: none;\n",
              "      fill: #1967D2;\n",
              "      height: 32px;\n",
              "      padding: 0 0 0 0;\n",
              "      width: 32px;\n",
              "    }\n",
              "\n",
              "    .colab-df-convert:hover {\n",
              "      background-color: #E2EBFA;\n",
              "      box-shadow: 0px 1px 2px rgba(60, 64, 67, 0.3), 0px 1px 3px 1px rgba(60, 64, 67, 0.15);\n",
              "      fill: #174EA6;\n",
              "    }\n",
              "\n",
              "    .colab-df-buttons div {\n",
              "      margin-bottom: 4px;\n",
              "    }\n",
              "\n",
              "    [theme=dark] .colab-df-convert {\n",
              "      background-color: #3B4455;\n",
              "      fill: #D2E3FC;\n",
              "    }\n",
              "\n",
              "    [theme=dark] .colab-df-convert:hover {\n",
              "      background-color: #434B5C;\n",
              "      box-shadow: 0px 1px 3px 1px rgba(0, 0, 0, 0.15);\n",
              "      filter: drop-shadow(0px 1px 2px rgba(0, 0, 0, 0.3));\n",
              "      fill: #FFFFFF;\n",
              "    }\n",
              "  </style>\n",
              "\n",
              "    <script>\n",
              "      const buttonEl =\n",
              "        document.querySelector('#df-19f08039-bded-4df0-b02d-ca5995a7258e button.colab-df-convert');\n",
              "      buttonEl.style.display =\n",
              "        google.colab.kernel.accessAllowed ? 'block' : 'none';\n",
              "\n",
              "      async function convertToInteractive(key) {\n",
              "        const element = document.querySelector('#df-19f08039-bded-4df0-b02d-ca5995a7258e');\n",
              "        const dataTable =\n",
              "          await google.colab.kernel.invokeFunction('convertToInteractive',\n",
              "                                                    [key], {});\n",
              "        if (!dataTable) return;\n",
              "\n",
              "        const docLinkHtml = 'Like what you see? Visit the ' +\n",
              "          '<a target=\"_blank\" href=https://colab.research.google.com/notebooks/data_table.ipynb>data table notebook</a>'\n",
              "          + ' to learn more about interactive tables.';\n",
              "        element.innerHTML = '';\n",
              "        dataTable['output_type'] = 'display_data';\n",
              "        await google.colab.output.renderOutput(dataTable, element);\n",
              "        const docLink = document.createElement('div');\n",
              "        docLink.innerHTML = docLinkHtml;\n",
              "        element.appendChild(docLink);\n",
              "      }\n",
              "    </script>\n",
              "  </div>\n",
              "\n",
              "\n",
              "    <div id=\"df-c6343f96-ceae-4f96-a629-b0a9f94f9db5\">\n",
              "      <button class=\"colab-df-quickchart\" onclick=\"quickchart('df-c6343f96-ceae-4f96-a629-b0a9f94f9db5')\"\n",
              "                title=\"Suggest charts\"\n",
              "                style=\"display:none;\">\n",
              "\n",
              "<svg xmlns=\"http://www.w3.org/2000/svg\" height=\"24px\"viewBox=\"0 0 24 24\"\n",
              "     width=\"24px\">\n",
              "    <g>\n",
              "        <path d=\"M19 3H5c-1.1 0-2 .9-2 2v14c0 1.1.9 2 2 2h14c1.1 0 2-.9 2-2V5c0-1.1-.9-2-2-2zM9 17H7v-7h2v7zm4 0h-2V7h2v10zm4 0h-2v-4h2v4z\"/>\n",
              "    </g>\n",
              "</svg>\n",
              "      </button>\n",
              "\n",
              "<style>\n",
              "  .colab-df-quickchart {\n",
              "      --bg-color: #E8F0FE;\n",
              "      --fill-color: #1967D2;\n",
              "      --hover-bg-color: #E2EBFA;\n",
              "      --hover-fill-color: #174EA6;\n",
              "      --disabled-fill-color: #AAA;\n",
              "      --disabled-bg-color: #DDD;\n",
              "  }\n",
              "\n",
              "  [theme=dark] .colab-df-quickchart {\n",
              "      --bg-color: #3B4455;\n",
              "      --fill-color: #D2E3FC;\n",
              "      --hover-bg-color: #434B5C;\n",
              "      --hover-fill-color: #FFFFFF;\n",
              "      --disabled-bg-color: #3B4455;\n",
              "      --disabled-fill-color: #666;\n",
              "  }\n",
              "\n",
              "  .colab-df-quickchart {\n",
              "    background-color: var(--bg-color);\n",
              "    border: none;\n",
              "    border-radius: 50%;\n",
              "    cursor: pointer;\n",
              "    display: none;\n",
              "    fill: var(--fill-color);\n",
              "    height: 32px;\n",
              "    padding: 0;\n",
              "    width: 32px;\n",
              "  }\n",
              "\n",
              "  .colab-df-quickchart:hover {\n",
              "    background-color: var(--hover-bg-color);\n",
              "    box-shadow: 0 1px 2px rgba(60, 64, 67, 0.3), 0 1px 3px 1px rgba(60, 64, 67, 0.15);\n",
              "    fill: var(--button-hover-fill-color);\n",
              "  }\n",
              "\n",
              "  .colab-df-quickchart-complete:disabled,\n",
              "  .colab-df-quickchart-complete:disabled:hover {\n",
              "    background-color: var(--disabled-bg-color);\n",
              "    fill: var(--disabled-fill-color);\n",
              "    box-shadow: none;\n",
              "  }\n",
              "\n",
              "  .colab-df-spinner {\n",
              "    border: 2px solid var(--fill-color);\n",
              "    border-color: transparent;\n",
              "    border-bottom-color: var(--fill-color);\n",
              "    animation:\n",
              "      spin 1s steps(1) infinite;\n",
              "  }\n",
              "\n",
              "  @keyframes spin {\n",
              "    0% {\n",
              "      border-color: transparent;\n",
              "      border-bottom-color: var(--fill-color);\n",
              "      border-left-color: var(--fill-color);\n",
              "    }\n",
              "    20% {\n",
              "      border-color: transparent;\n",
              "      border-left-color: var(--fill-color);\n",
              "      border-top-color: var(--fill-color);\n",
              "    }\n",
              "    30% {\n",
              "      border-color: transparent;\n",
              "      border-left-color: var(--fill-color);\n",
              "      border-top-color: var(--fill-color);\n",
              "      border-right-color: var(--fill-color);\n",
              "    }\n",
              "    40% {\n",
              "      border-color: transparent;\n",
              "      border-right-color: var(--fill-color);\n",
              "      border-top-color: var(--fill-color);\n",
              "    }\n",
              "    60% {\n",
              "      border-color: transparent;\n",
              "      border-right-color: var(--fill-color);\n",
              "    }\n",
              "    80% {\n",
              "      border-color: transparent;\n",
              "      border-right-color: var(--fill-color);\n",
              "      border-bottom-color: var(--fill-color);\n",
              "    }\n",
              "    90% {\n",
              "      border-color: transparent;\n",
              "      border-bottom-color: var(--fill-color);\n",
              "    }\n",
              "  }\n",
              "</style>\n",
              "\n",
              "      <script>\n",
              "        async function quickchart(key) {\n",
              "          const quickchartButtonEl =\n",
              "            document.querySelector('#' + key + ' button');\n",
              "          quickchartButtonEl.disabled = true;  // To prevent multiple clicks.\n",
              "          quickchartButtonEl.classList.add('colab-df-spinner');\n",
              "          try {\n",
              "            const charts = await google.colab.kernel.invokeFunction(\n",
              "                'suggestCharts', [key], {});\n",
              "          } catch (error) {\n",
              "            console.error('Error during call to suggestCharts:', error);\n",
              "          }\n",
              "          quickchartButtonEl.classList.remove('colab-df-spinner');\n",
              "          quickchartButtonEl.classList.add('colab-df-quickchart-complete');\n",
              "        }\n",
              "        (() => {\n",
              "          let quickchartButtonEl =\n",
              "            document.querySelector('#df-c6343f96-ceae-4f96-a629-b0a9f94f9db5 button');\n",
              "          quickchartButtonEl.style.display =\n",
              "            google.colab.kernel.accessAllowed ? 'block' : 'none';\n",
              "        })();\n",
              "      </script>\n",
              "    </div>\n",
              "\n",
              "    </div>\n",
              "  </div>\n"
            ],
            "application/vnd.google.colaboratory.intrinsic+json": {
              "type": "dataframe",
              "variable_name": "df2",
              "summary": "{\n  \"name\": \"df2\",\n  \"rows\": 51,\n  \"fields\": [\n    {\n      \"column\": \"DrawDate\",\n      \"properties\": {\n        \"dtype\": \"date\",\n        \"min\": \"2025-01-21 00:00:00\",\n        \"max\": \"2025-07-15 00:00:00\",\n        \"num_unique_values\": 51,\n        \"samples\": [\n          \"2025-02-14 00:00:00\",\n          \"2025-02-25 00:00:00\",\n          \"2025-02-04 00:00:00\"\n        ],\n        \"semantic_type\": \"\",\n        \"description\": \"\"\n      }\n    },\n    {\n      \"column\": \"Ball 1\",\n      \"properties\": {\n        \"dtype\": \"number\",\n        \"std\": 6,\n        \"min\": 1,\n        \"max\": 27,\n        \"num_unique_values\": 20,\n        \"samples\": [\n          24,\n          27,\n          3\n        ],\n        \"semantic_type\": \"\",\n        \"description\": \"\"\n      }\n    },\n    {\n      \"column\": \"Ball 2\",\n      \"properties\": {\n        \"dtype\": \"number\",\n        \"std\": 9,\n        \"min\": 3,\n        \"max\": 39,\n        \"num_unique_values\": 28,\n        \"samples\": [\n          36,\n          4,\n          28\n        ],\n        \"semantic_type\": \"\",\n        \"description\": \"\"\n      }\n    },\n    {\n      \"column\": \"Ball 3\",\n      \"properties\": {\n        \"dtype\": \"number\",\n        \"std\": 9,\n        \"min\": 9,\n        \"max\": 44,\n        \"num_unique_values\": 29,\n        \"samples\": [\n          31,\n          44,\n          14\n        ],\n        \"semantic_type\": \"\",\n        \"description\": \"\"\n      }\n    },\n    {\n      \"column\": \"Ball 4\",\n      \"properties\": {\n        \"dtype\": \"number\",\n        \"std\": 8,\n        \"min\": 18,\n        \"max\": 48,\n        \"num_unique_values\": 25,\n        \"samples\": [\n          30,\n          48,\n          45\n        ],\n        \"semantic_type\": \"\",\n        \"description\": \"\"\n      }\n    },\n    {\n      \"column\": \"Ball 5\",\n      \"properties\": {\n        \"dtype\": \"number\",\n        \"std\": 4,\n        \"min\": 34,\n        \"max\": 50,\n        \"num_unique_values\": 16,\n        \"samples\": [\n          49,\n          50,\n          47\n        ],\n        \"semantic_type\": \"\",\n        \"description\": \"\"\n      }\n    },\n    {\n      \"column\": \"Lucky Star 1\",\n      \"properties\": {\n        \"dtype\": \"number\",\n        \"std\": 2,\n        \"min\": 1,\n        \"max\": 9,\n        \"num_unique_values\": 9,\n        \"samples\": [\n          9,\n          2,\n          4\n        ],\n        \"semantic_type\": \"\",\n        \"description\": \"\"\n      }\n    },\n    {\n      \"column\": \"Lucky Star 2\",\n      \"properties\": {\n        \"dtype\": \"number\",\n        \"std\": 2,\n        \"min\": 5,\n        \"max\": 12,\n        \"num_unique_values\": 8,\n        \"samples\": [\n          10,\n          11,\n          6\n        ],\n        \"semantic_type\": \"\",\n        \"description\": \"\"\n      }\n    }\n  ]\n}"
            }
          },
          "metadata": {},
          "execution_count": 68
        }
      ]
    },
    {
      "cell_type": "code",
      "source": [
        "start_date = df2['DrawDate'].min()\n",
        "end_date = df2['DrawDate'].max()\n",
        "\n",
        "print(\"Start date:\", start_date)\n",
        "print(\"End date:\", end_date)"
      ],
      "metadata": {
        "colab": {
          "base_uri": "https://localhost:8080/"
        },
        "id": "b_-qSDboSYWt",
        "outputId": "1adab1bc-80ee-4349-bd0a-abf08089263e"
      },
      "execution_count": 69,
      "outputs": [
        {
          "output_type": "stream",
          "name": "stdout",
          "text": [
            "Start date: 2025-01-21 00:00:00\n",
            "End date: 2025-07-15 00:00:00\n"
          ]
        }
      ]
    },
    {
      "cell_type": "code",
      "source": [
        "df2.isnull().sum()"
      ],
      "metadata": {
        "colab": {
          "base_uri": "https://localhost:8080/",
          "height": 335
        },
        "id": "iIkDNLz_Zd2g",
        "outputId": "9e77fbc0-7401-4cc6-f1af-e2926d81f936"
      },
      "execution_count": 71,
      "outputs": [
        {
          "output_type": "execute_result",
          "data": {
            "text/plain": [
              "DrawDate        0\n",
              "Ball 1          0\n",
              "Ball 2          0\n",
              "Ball 3          0\n",
              "Ball 4          0\n",
              "Ball 5          0\n",
              "Lucky Star 1    0\n",
              "Lucky Star 2    0\n",
              "dtype: int64"
            ],
            "text/html": [
              "<div>\n",
              "<style scoped>\n",
              "    .dataframe tbody tr th:only-of-type {\n",
              "        vertical-align: middle;\n",
              "    }\n",
              "\n",
              "    .dataframe tbody tr th {\n",
              "        vertical-align: top;\n",
              "    }\n",
              "\n",
              "    .dataframe thead th {\n",
              "        text-align: right;\n",
              "    }\n",
              "</style>\n",
              "<table border=\"1\" class=\"dataframe\">\n",
              "  <thead>\n",
              "    <tr style=\"text-align: right;\">\n",
              "      <th></th>\n",
              "      <th>0</th>\n",
              "    </tr>\n",
              "  </thead>\n",
              "  <tbody>\n",
              "    <tr>\n",
              "      <th>DrawDate</th>\n",
              "      <td>0</td>\n",
              "    </tr>\n",
              "    <tr>\n",
              "      <th>Ball 1</th>\n",
              "      <td>0</td>\n",
              "    </tr>\n",
              "    <tr>\n",
              "      <th>Ball 2</th>\n",
              "      <td>0</td>\n",
              "    </tr>\n",
              "    <tr>\n",
              "      <th>Ball 3</th>\n",
              "      <td>0</td>\n",
              "    </tr>\n",
              "    <tr>\n",
              "      <th>Ball 4</th>\n",
              "      <td>0</td>\n",
              "    </tr>\n",
              "    <tr>\n",
              "      <th>Ball 5</th>\n",
              "      <td>0</td>\n",
              "    </tr>\n",
              "    <tr>\n",
              "      <th>Lucky Star 1</th>\n",
              "      <td>0</td>\n",
              "    </tr>\n",
              "    <tr>\n",
              "      <th>Lucky Star 2</th>\n",
              "      <td>0</td>\n",
              "    </tr>\n",
              "  </tbody>\n",
              "</table>\n",
              "</div><br><label><b>dtype:</b> int64</label>"
            ]
          },
          "metadata": {},
          "execution_count": 71
        }
      ]
    },
    {
      "cell_type": "markdown",
      "source": [
        "Unable to concat two dataframes due to spaces in df2."
      ],
      "metadata": {
        "id": "xxTQ5grWZ_Ba"
      }
    },
    {
      "cell_type": "code",
      "source": [
        "new_df.count()"
      ],
      "metadata": {
        "colab": {
          "base_uri": "https://localhost:8080/",
          "height": 335
        },
        "id": "-RyExgATZ1Ly",
        "outputId": "3a159aed-47f9-4d05-b717-892ef5b7a4d4"
      },
      "execution_count": 73,
      "outputs": [
        {
          "output_type": "execute_result",
          "data": {
            "text/plain": [
              "DrawDate      1758\n",
              "Ball1         1758\n",
              "Ball2         1758\n",
              "Ball3         1758\n",
              "Ball4         1758\n",
              "Ball5         1758\n",
              "LuckyStar1    1758\n",
              "LuckyStar2    1758\n",
              "dtype: int64"
            ],
            "text/html": [
              "<div>\n",
              "<style scoped>\n",
              "    .dataframe tbody tr th:only-of-type {\n",
              "        vertical-align: middle;\n",
              "    }\n",
              "\n",
              "    .dataframe tbody tr th {\n",
              "        vertical-align: top;\n",
              "    }\n",
              "\n",
              "    .dataframe thead th {\n",
              "        text-align: right;\n",
              "    }\n",
              "</style>\n",
              "<table border=\"1\" class=\"dataframe\">\n",
              "  <thead>\n",
              "    <tr style=\"text-align: right;\">\n",
              "      <th></th>\n",
              "      <th>0</th>\n",
              "    </tr>\n",
              "  </thead>\n",
              "  <tbody>\n",
              "    <tr>\n",
              "      <th>DrawDate</th>\n",
              "      <td>1758</td>\n",
              "    </tr>\n",
              "    <tr>\n",
              "      <th>Ball1</th>\n",
              "      <td>1758</td>\n",
              "    </tr>\n",
              "    <tr>\n",
              "      <th>Ball2</th>\n",
              "      <td>1758</td>\n",
              "    </tr>\n",
              "    <tr>\n",
              "      <th>Ball3</th>\n",
              "      <td>1758</td>\n",
              "    </tr>\n",
              "    <tr>\n",
              "      <th>Ball4</th>\n",
              "      <td>1758</td>\n",
              "    </tr>\n",
              "    <tr>\n",
              "      <th>Ball5</th>\n",
              "      <td>1758</td>\n",
              "    </tr>\n",
              "    <tr>\n",
              "      <th>LuckyStar1</th>\n",
              "      <td>1758</td>\n",
              "    </tr>\n",
              "    <tr>\n",
              "      <th>LuckyStar2</th>\n",
              "      <td>1758</td>\n",
              "    </tr>\n",
              "  </tbody>\n",
              "</table>\n",
              "</div><br><label><b>dtype:</b> int64</label>"
            ]
          },
          "metadata": {},
          "execution_count": 73
        }
      ]
    },
    {
      "cell_type": "code",
      "source": [
        "df2.count()"
      ],
      "metadata": {
        "colab": {
          "base_uri": "https://localhost:8080/",
          "height": 335
        },
        "id": "Y-FYUW5vZkF_",
        "outputId": "bae352ab-4f09-48ba-fcef-ff997433b028"
      },
      "execution_count": 72,
      "outputs": [
        {
          "output_type": "execute_result",
          "data": {
            "text/plain": [
              "DrawDate        51\n",
              "Ball 1          51\n",
              "Ball 2          51\n",
              "Ball 3          51\n",
              "Ball 4          51\n",
              "Ball 5          51\n",
              "Lucky Star 1    51\n",
              "Lucky Star 2    51\n",
              "dtype: int64"
            ],
            "text/html": [
              "<div>\n",
              "<style scoped>\n",
              "    .dataframe tbody tr th:only-of-type {\n",
              "        vertical-align: middle;\n",
              "    }\n",
              "\n",
              "    .dataframe tbody tr th {\n",
              "        vertical-align: top;\n",
              "    }\n",
              "\n",
              "    .dataframe thead th {\n",
              "        text-align: right;\n",
              "    }\n",
              "</style>\n",
              "<table border=\"1\" class=\"dataframe\">\n",
              "  <thead>\n",
              "    <tr style=\"text-align: right;\">\n",
              "      <th></th>\n",
              "      <th>0</th>\n",
              "    </tr>\n",
              "  </thead>\n",
              "  <tbody>\n",
              "    <tr>\n",
              "      <th>DrawDate</th>\n",
              "      <td>51</td>\n",
              "    </tr>\n",
              "    <tr>\n",
              "      <th>Ball 1</th>\n",
              "      <td>51</td>\n",
              "    </tr>\n",
              "    <tr>\n",
              "      <th>Ball 2</th>\n",
              "      <td>51</td>\n",
              "    </tr>\n",
              "    <tr>\n",
              "      <th>Ball 3</th>\n",
              "      <td>51</td>\n",
              "    </tr>\n",
              "    <tr>\n",
              "      <th>Ball 4</th>\n",
              "      <td>51</td>\n",
              "    </tr>\n",
              "    <tr>\n",
              "      <th>Ball 5</th>\n",
              "      <td>51</td>\n",
              "    </tr>\n",
              "    <tr>\n",
              "      <th>Lucky Star 1</th>\n",
              "      <td>51</td>\n",
              "    </tr>\n",
              "    <tr>\n",
              "      <th>Lucky Star 2</th>\n",
              "      <td>51</td>\n",
              "    </tr>\n",
              "  </tbody>\n",
              "</table>\n",
              "</div><br><label><b>dtype:</b> int64</label>"
            ]
          },
          "metadata": {},
          "execution_count": 72
        }
      ]
    },
    {
      "cell_type": "code",
      "source": [
        "#renaming the columns to remove spaces in df2.\n",
        "df2=df2.rename(columns={'Ball 1': 'Ball1', 'Ball 2': 'Ball2', 'Ball 3': 'Ball3', 'Ball 4': 'Ball4', 'Ball 5': 'Ball5', 'Lucky Star 1': 'LuckyStar1', 'Lucky Star 2': 'LuckyStar2'})"
      ],
      "metadata": {
        "id": "9YLiRCFMaFs_"
      },
      "execution_count": 74,
      "outputs": []
    },
    {
      "cell_type": "code",
      "source": [
        "df2.head()"
      ],
      "metadata": {
        "colab": {
          "base_uri": "https://localhost:8080/",
          "height": 206
        },
        "id": "g6WhO2b_iZEp",
        "outputId": "3fd1c733-8647-443a-da5b-63180fc954fc"
      },
      "execution_count": 75,
      "outputs": [
        {
          "output_type": "execute_result",
          "data": {
            "text/plain": [
              "    DrawDate  Ball1  Ball2  Ball3  Ball4  Ball5  LuckyStar1  LuckyStar2\n",
              "0 2025-07-15     24     38     41     45     49           1           6\n",
              "1 2025-07-11      8     23     24     45     49           2          10\n",
              "2 2025-07-08      1      8      9     18     50           1           5\n",
              "3 2025-07-04     19     29     42     45     48           5           7\n",
              "4 2025-07-01      1     17     28     32     34           7           8"
            ],
            "text/html": [
              "\n",
              "  <div id=\"df-1e626343-af16-4180-9f28-2556a9c7b6be\" class=\"colab-df-container\">\n",
              "    <div>\n",
              "<style scoped>\n",
              "    .dataframe tbody tr th:only-of-type {\n",
              "        vertical-align: middle;\n",
              "    }\n",
              "\n",
              "    .dataframe tbody tr th {\n",
              "        vertical-align: top;\n",
              "    }\n",
              "\n",
              "    .dataframe thead th {\n",
              "        text-align: right;\n",
              "    }\n",
              "</style>\n",
              "<table border=\"1\" class=\"dataframe\">\n",
              "  <thead>\n",
              "    <tr style=\"text-align: right;\">\n",
              "      <th></th>\n",
              "      <th>DrawDate</th>\n",
              "      <th>Ball1</th>\n",
              "      <th>Ball2</th>\n",
              "      <th>Ball3</th>\n",
              "      <th>Ball4</th>\n",
              "      <th>Ball5</th>\n",
              "      <th>LuckyStar1</th>\n",
              "      <th>LuckyStar2</th>\n",
              "    </tr>\n",
              "  </thead>\n",
              "  <tbody>\n",
              "    <tr>\n",
              "      <th>0</th>\n",
              "      <td>2025-07-15</td>\n",
              "      <td>24</td>\n",
              "      <td>38</td>\n",
              "      <td>41</td>\n",
              "      <td>45</td>\n",
              "      <td>49</td>\n",
              "      <td>1</td>\n",
              "      <td>6</td>\n",
              "    </tr>\n",
              "    <tr>\n",
              "      <th>1</th>\n",
              "      <td>2025-07-11</td>\n",
              "      <td>8</td>\n",
              "      <td>23</td>\n",
              "      <td>24</td>\n",
              "      <td>45</td>\n",
              "      <td>49</td>\n",
              "      <td>2</td>\n",
              "      <td>10</td>\n",
              "    </tr>\n",
              "    <tr>\n",
              "      <th>2</th>\n",
              "      <td>2025-07-08</td>\n",
              "      <td>1</td>\n",
              "      <td>8</td>\n",
              "      <td>9</td>\n",
              "      <td>18</td>\n",
              "      <td>50</td>\n",
              "      <td>1</td>\n",
              "      <td>5</td>\n",
              "    </tr>\n",
              "    <tr>\n",
              "      <th>3</th>\n",
              "      <td>2025-07-04</td>\n",
              "      <td>19</td>\n",
              "      <td>29</td>\n",
              "      <td>42</td>\n",
              "      <td>45</td>\n",
              "      <td>48</td>\n",
              "      <td>5</td>\n",
              "      <td>7</td>\n",
              "    </tr>\n",
              "    <tr>\n",
              "      <th>4</th>\n",
              "      <td>2025-07-01</td>\n",
              "      <td>1</td>\n",
              "      <td>17</td>\n",
              "      <td>28</td>\n",
              "      <td>32</td>\n",
              "      <td>34</td>\n",
              "      <td>7</td>\n",
              "      <td>8</td>\n",
              "    </tr>\n",
              "  </tbody>\n",
              "</table>\n",
              "</div>\n",
              "    <div class=\"colab-df-buttons\">\n",
              "\n",
              "  <div class=\"colab-df-container\">\n",
              "    <button class=\"colab-df-convert\" onclick=\"convertToInteractive('df-1e626343-af16-4180-9f28-2556a9c7b6be')\"\n",
              "            title=\"Convert this dataframe to an interactive table.\"\n",
              "            style=\"display:none;\">\n",
              "\n",
              "  <svg xmlns=\"http://www.w3.org/2000/svg\" height=\"24px\" viewBox=\"0 -960 960 960\">\n",
              "    <path d=\"M120-120v-720h720v720H120Zm60-500h600v-160H180v160Zm220 220h160v-160H400v160Zm0 220h160v-160H400v160ZM180-400h160v-160H180v160Zm440 0h160v-160H620v160ZM180-180h160v-160H180v160Zm440 0h160v-160H620v160Z\"/>\n",
              "  </svg>\n",
              "    </button>\n",
              "\n",
              "  <style>\n",
              "    .colab-df-container {\n",
              "      display:flex;\n",
              "      gap: 12px;\n",
              "    }\n",
              "\n",
              "    .colab-df-convert {\n",
              "      background-color: #E8F0FE;\n",
              "      border: none;\n",
              "      border-radius: 50%;\n",
              "      cursor: pointer;\n",
              "      display: none;\n",
              "      fill: #1967D2;\n",
              "      height: 32px;\n",
              "      padding: 0 0 0 0;\n",
              "      width: 32px;\n",
              "    }\n",
              "\n",
              "    .colab-df-convert:hover {\n",
              "      background-color: #E2EBFA;\n",
              "      box-shadow: 0px 1px 2px rgba(60, 64, 67, 0.3), 0px 1px 3px 1px rgba(60, 64, 67, 0.15);\n",
              "      fill: #174EA6;\n",
              "    }\n",
              "\n",
              "    .colab-df-buttons div {\n",
              "      margin-bottom: 4px;\n",
              "    }\n",
              "\n",
              "    [theme=dark] .colab-df-convert {\n",
              "      background-color: #3B4455;\n",
              "      fill: #D2E3FC;\n",
              "    }\n",
              "\n",
              "    [theme=dark] .colab-df-convert:hover {\n",
              "      background-color: #434B5C;\n",
              "      box-shadow: 0px 1px 3px 1px rgba(0, 0, 0, 0.15);\n",
              "      filter: drop-shadow(0px 1px 2px rgba(0, 0, 0, 0.3));\n",
              "      fill: #FFFFFF;\n",
              "    }\n",
              "  </style>\n",
              "\n",
              "    <script>\n",
              "      const buttonEl =\n",
              "        document.querySelector('#df-1e626343-af16-4180-9f28-2556a9c7b6be button.colab-df-convert');\n",
              "      buttonEl.style.display =\n",
              "        google.colab.kernel.accessAllowed ? 'block' : 'none';\n",
              "\n",
              "      async function convertToInteractive(key) {\n",
              "        const element = document.querySelector('#df-1e626343-af16-4180-9f28-2556a9c7b6be');\n",
              "        const dataTable =\n",
              "          await google.colab.kernel.invokeFunction('convertToInteractive',\n",
              "                                                    [key], {});\n",
              "        if (!dataTable) return;\n",
              "\n",
              "        const docLinkHtml = 'Like what you see? Visit the ' +\n",
              "          '<a target=\"_blank\" href=https://colab.research.google.com/notebooks/data_table.ipynb>data table notebook</a>'\n",
              "          + ' to learn more about interactive tables.';\n",
              "        element.innerHTML = '';\n",
              "        dataTable['output_type'] = 'display_data';\n",
              "        await google.colab.output.renderOutput(dataTable, element);\n",
              "        const docLink = document.createElement('div');\n",
              "        docLink.innerHTML = docLinkHtml;\n",
              "        element.appendChild(docLink);\n",
              "      }\n",
              "    </script>\n",
              "  </div>\n",
              "\n",
              "\n",
              "    <div id=\"df-29adf87b-bca1-4f38-9b33-bab09cc27e05\">\n",
              "      <button class=\"colab-df-quickchart\" onclick=\"quickchart('df-29adf87b-bca1-4f38-9b33-bab09cc27e05')\"\n",
              "                title=\"Suggest charts\"\n",
              "                style=\"display:none;\">\n",
              "\n",
              "<svg xmlns=\"http://www.w3.org/2000/svg\" height=\"24px\"viewBox=\"0 0 24 24\"\n",
              "     width=\"24px\">\n",
              "    <g>\n",
              "        <path d=\"M19 3H5c-1.1 0-2 .9-2 2v14c0 1.1.9 2 2 2h14c1.1 0 2-.9 2-2V5c0-1.1-.9-2-2-2zM9 17H7v-7h2v7zm4 0h-2V7h2v10zm4 0h-2v-4h2v4z\"/>\n",
              "    </g>\n",
              "</svg>\n",
              "      </button>\n",
              "\n",
              "<style>\n",
              "  .colab-df-quickchart {\n",
              "      --bg-color: #E8F0FE;\n",
              "      --fill-color: #1967D2;\n",
              "      --hover-bg-color: #E2EBFA;\n",
              "      --hover-fill-color: #174EA6;\n",
              "      --disabled-fill-color: #AAA;\n",
              "      --disabled-bg-color: #DDD;\n",
              "  }\n",
              "\n",
              "  [theme=dark] .colab-df-quickchart {\n",
              "      --bg-color: #3B4455;\n",
              "      --fill-color: #D2E3FC;\n",
              "      --hover-bg-color: #434B5C;\n",
              "      --hover-fill-color: #FFFFFF;\n",
              "      --disabled-bg-color: #3B4455;\n",
              "      --disabled-fill-color: #666;\n",
              "  }\n",
              "\n",
              "  .colab-df-quickchart {\n",
              "    background-color: var(--bg-color);\n",
              "    border: none;\n",
              "    border-radius: 50%;\n",
              "    cursor: pointer;\n",
              "    display: none;\n",
              "    fill: var(--fill-color);\n",
              "    height: 32px;\n",
              "    padding: 0;\n",
              "    width: 32px;\n",
              "  }\n",
              "\n",
              "  .colab-df-quickchart:hover {\n",
              "    background-color: var(--hover-bg-color);\n",
              "    box-shadow: 0 1px 2px rgba(60, 64, 67, 0.3), 0 1px 3px 1px rgba(60, 64, 67, 0.15);\n",
              "    fill: var(--button-hover-fill-color);\n",
              "  }\n",
              "\n",
              "  .colab-df-quickchart-complete:disabled,\n",
              "  .colab-df-quickchart-complete:disabled:hover {\n",
              "    background-color: var(--disabled-bg-color);\n",
              "    fill: var(--disabled-fill-color);\n",
              "    box-shadow: none;\n",
              "  }\n",
              "\n",
              "  .colab-df-spinner {\n",
              "    border: 2px solid var(--fill-color);\n",
              "    border-color: transparent;\n",
              "    border-bottom-color: var(--fill-color);\n",
              "    animation:\n",
              "      spin 1s steps(1) infinite;\n",
              "  }\n",
              "\n",
              "  @keyframes spin {\n",
              "    0% {\n",
              "      border-color: transparent;\n",
              "      border-bottom-color: var(--fill-color);\n",
              "      border-left-color: var(--fill-color);\n",
              "    }\n",
              "    20% {\n",
              "      border-color: transparent;\n",
              "      border-left-color: var(--fill-color);\n",
              "      border-top-color: var(--fill-color);\n",
              "    }\n",
              "    30% {\n",
              "      border-color: transparent;\n",
              "      border-left-color: var(--fill-color);\n",
              "      border-top-color: var(--fill-color);\n",
              "      border-right-color: var(--fill-color);\n",
              "    }\n",
              "    40% {\n",
              "      border-color: transparent;\n",
              "      border-right-color: var(--fill-color);\n",
              "      border-top-color: var(--fill-color);\n",
              "    }\n",
              "    60% {\n",
              "      border-color: transparent;\n",
              "      border-right-color: var(--fill-color);\n",
              "    }\n",
              "    80% {\n",
              "      border-color: transparent;\n",
              "      border-right-color: var(--fill-color);\n",
              "      border-bottom-color: var(--fill-color);\n",
              "    }\n",
              "    90% {\n",
              "      border-color: transparent;\n",
              "      border-bottom-color: var(--fill-color);\n",
              "    }\n",
              "  }\n",
              "</style>\n",
              "\n",
              "      <script>\n",
              "        async function quickchart(key) {\n",
              "          const quickchartButtonEl =\n",
              "            document.querySelector('#' + key + ' button');\n",
              "          quickchartButtonEl.disabled = true;  // To prevent multiple clicks.\n",
              "          quickchartButtonEl.classList.add('colab-df-spinner');\n",
              "          try {\n",
              "            const charts = await google.colab.kernel.invokeFunction(\n",
              "                'suggestCharts', [key], {});\n",
              "          } catch (error) {\n",
              "            console.error('Error during call to suggestCharts:', error);\n",
              "          }\n",
              "          quickchartButtonEl.classList.remove('colab-df-spinner');\n",
              "          quickchartButtonEl.classList.add('colab-df-quickchart-complete');\n",
              "        }\n",
              "        (() => {\n",
              "          let quickchartButtonEl =\n",
              "            document.querySelector('#df-29adf87b-bca1-4f38-9b33-bab09cc27e05 button');\n",
              "          quickchartButtonEl.style.display =\n",
              "            google.colab.kernel.accessAllowed ? 'block' : 'none';\n",
              "        })();\n",
              "      </script>\n",
              "    </div>\n",
              "\n",
              "    </div>\n",
              "  </div>\n"
            ],
            "application/vnd.google.colaboratory.intrinsic+json": {
              "type": "dataframe",
              "variable_name": "df2",
              "summary": "{\n  \"name\": \"df2\",\n  \"rows\": 51,\n  \"fields\": [\n    {\n      \"column\": \"DrawDate\",\n      \"properties\": {\n        \"dtype\": \"date\",\n        \"min\": \"2025-01-21 00:00:00\",\n        \"max\": \"2025-07-15 00:00:00\",\n        \"num_unique_values\": 51,\n        \"samples\": [\n          \"2025-02-14 00:00:00\",\n          \"2025-02-25 00:00:00\",\n          \"2025-02-04 00:00:00\"\n        ],\n        \"semantic_type\": \"\",\n        \"description\": \"\"\n      }\n    },\n    {\n      \"column\": \"Ball1\",\n      \"properties\": {\n        \"dtype\": \"number\",\n        \"std\": 6,\n        \"min\": 1,\n        \"max\": 27,\n        \"num_unique_values\": 20,\n        \"samples\": [\n          24,\n          27,\n          3\n        ],\n        \"semantic_type\": \"\",\n        \"description\": \"\"\n      }\n    },\n    {\n      \"column\": \"Ball2\",\n      \"properties\": {\n        \"dtype\": \"number\",\n        \"std\": 9,\n        \"min\": 3,\n        \"max\": 39,\n        \"num_unique_values\": 28,\n        \"samples\": [\n          36,\n          4,\n          28\n        ],\n        \"semantic_type\": \"\",\n        \"description\": \"\"\n      }\n    },\n    {\n      \"column\": \"Ball3\",\n      \"properties\": {\n        \"dtype\": \"number\",\n        \"std\": 9,\n        \"min\": 9,\n        \"max\": 44,\n        \"num_unique_values\": 29,\n        \"samples\": [\n          31,\n          44,\n          14\n        ],\n        \"semantic_type\": \"\",\n        \"description\": \"\"\n      }\n    },\n    {\n      \"column\": \"Ball4\",\n      \"properties\": {\n        \"dtype\": \"number\",\n        \"std\": 8,\n        \"min\": 18,\n        \"max\": 48,\n        \"num_unique_values\": 25,\n        \"samples\": [\n          30,\n          48,\n          45\n        ],\n        \"semantic_type\": \"\",\n        \"description\": \"\"\n      }\n    },\n    {\n      \"column\": \"Ball5\",\n      \"properties\": {\n        \"dtype\": \"number\",\n        \"std\": 4,\n        \"min\": 34,\n        \"max\": 50,\n        \"num_unique_values\": 16,\n        \"samples\": [\n          49,\n          50,\n          47\n        ],\n        \"semantic_type\": \"\",\n        \"description\": \"\"\n      }\n    },\n    {\n      \"column\": \"LuckyStar1\",\n      \"properties\": {\n        \"dtype\": \"number\",\n        \"std\": 2,\n        \"min\": 1,\n        \"max\": 9,\n        \"num_unique_values\": 9,\n        \"samples\": [\n          9,\n          2,\n          4\n        ],\n        \"semantic_type\": \"\",\n        \"description\": \"\"\n      }\n    },\n    {\n      \"column\": \"LuckyStar2\",\n      \"properties\": {\n        \"dtype\": \"number\",\n        \"std\": 2,\n        \"min\": 5,\n        \"max\": 12,\n        \"num_unique_values\": 8,\n        \"samples\": [\n          10,\n          11,\n          6\n        ],\n        \"semantic_type\": \"\",\n        \"description\": \"\"\n      }\n    }\n  ]\n}"
            }
          },
          "metadata": {},
          "execution_count": 75
        }
      ]
    },
    {
      "cell_type": "markdown",
      "source": [
        "**CONCAT THE TWO DATAFRAMES**"
      ],
      "metadata": {
        "id": "DUX71UUfVwgO"
      }
    },
    {
      "cell_type": "code",
      "source": [
        "eurodf=pd.concat([new_df,df2],ignore_index=True)"
      ],
      "metadata": {
        "id": "ESqYn5NhSj9L"
      },
      "execution_count": 76,
      "outputs": []
    },
    {
      "cell_type": "code",
      "source": [
        "eurodf.isnull().sum()"
      ],
      "metadata": {
        "colab": {
          "base_uri": "https://localhost:8080/",
          "height": 335
        },
        "id": "xRXTO6EUihH5",
        "outputId": "c12c22dd-551f-4e17-e6da-aa80c92f5f82"
      },
      "execution_count": 81,
      "outputs": [
        {
          "output_type": "execute_result",
          "data": {
            "text/plain": [
              "DrawDate      0\n",
              "Ball1         0\n",
              "Ball2         0\n",
              "Ball3         0\n",
              "Ball4         0\n",
              "Ball5         0\n",
              "LuckyStar1    0\n",
              "LuckyStar2    0\n",
              "dtype: int64"
            ],
            "text/html": [
              "<div>\n",
              "<style scoped>\n",
              "    .dataframe tbody tr th:only-of-type {\n",
              "        vertical-align: middle;\n",
              "    }\n",
              "\n",
              "    .dataframe tbody tr th {\n",
              "        vertical-align: top;\n",
              "    }\n",
              "\n",
              "    .dataframe thead th {\n",
              "        text-align: right;\n",
              "    }\n",
              "</style>\n",
              "<table border=\"1\" class=\"dataframe\">\n",
              "  <thead>\n",
              "    <tr style=\"text-align: right;\">\n",
              "      <th></th>\n",
              "      <th>0</th>\n",
              "    </tr>\n",
              "  </thead>\n",
              "  <tbody>\n",
              "    <tr>\n",
              "      <th>DrawDate</th>\n",
              "      <td>0</td>\n",
              "    </tr>\n",
              "    <tr>\n",
              "      <th>Ball1</th>\n",
              "      <td>0</td>\n",
              "    </tr>\n",
              "    <tr>\n",
              "      <th>Ball2</th>\n",
              "      <td>0</td>\n",
              "    </tr>\n",
              "    <tr>\n",
              "      <th>Ball3</th>\n",
              "      <td>0</td>\n",
              "    </tr>\n",
              "    <tr>\n",
              "      <th>Ball4</th>\n",
              "      <td>0</td>\n",
              "    </tr>\n",
              "    <tr>\n",
              "      <th>Ball5</th>\n",
              "      <td>0</td>\n",
              "    </tr>\n",
              "    <tr>\n",
              "      <th>LuckyStar1</th>\n",
              "      <td>0</td>\n",
              "    </tr>\n",
              "    <tr>\n",
              "      <th>LuckyStar2</th>\n",
              "      <td>0</td>\n",
              "    </tr>\n",
              "  </tbody>\n",
              "</table>\n",
              "</div><br><label><b>dtype:</b> int64</label>"
            ]
          },
          "metadata": {},
          "execution_count": 81
        }
      ]
    },
    {
      "cell_type": "code",
      "source": [
        "start_date = eurodf['DrawDate'].min()\n",
        "end_date = eurodf['DrawDate'].max()\n",
        "\n",
        "print(\"Start date:\", start_date)\n",
        "print(\"End date:\", end_date)"
      ],
      "metadata": {
        "colab": {
          "base_uri": "https://localhost:8080/"
        },
        "id": "ON7E-qavjByt",
        "outputId": "cc0ff749-2217-42bf-a1e9-b8e1fcc3c0f2"
      },
      "execution_count": 82,
      "outputs": [
        {
          "output_type": "stream",
          "name": "stdout",
          "text": [
            "Start date: 2004-02-13 00:00:00\n",
            "End date: 2025-07-15 00:00:00\n"
          ]
        }
      ]
    },
    {
      "cell_type": "code",
      "source": [
        "eurodf.isnull().sum()"
      ],
      "metadata": {
        "colab": {
          "base_uri": "https://localhost:8080/",
          "height": 335
        },
        "id": "nPcRqk3s2BRW",
        "outputId": "2258ad65-a6fc-4128-b1b7-075b4c08b942"
      },
      "execution_count": 84,
      "outputs": [
        {
          "output_type": "execute_result",
          "data": {
            "text/plain": [
              "DrawDate      0\n",
              "Ball1         0\n",
              "Ball2         0\n",
              "Ball3         0\n",
              "Ball4         0\n",
              "Ball5         0\n",
              "LuckyStar1    0\n",
              "LuckyStar2    0\n",
              "dtype: int64"
            ],
            "text/html": [
              "<div>\n",
              "<style scoped>\n",
              "    .dataframe tbody tr th:only-of-type {\n",
              "        vertical-align: middle;\n",
              "    }\n",
              "\n",
              "    .dataframe tbody tr th {\n",
              "        vertical-align: top;\n",
              "    }\n",
              "\n",
              "    .dataframe thead th {\n",
              "        text-align: right;\n",
              "    }\n",
              "</style>\n",
              "<table border=\"1\" class=\"dataframe\">\n",
              "  <thead>\n",
              "    <tr style=\"text-align: right;\">\n",
              "      <th></th>\n",
              "      <th>0</th>\n",
              "    </tr>\n",
              "  </thead>\n",
              "  <tbody>\n",
              "    <tr>\n",
              "      <th>DrawDate</th>\n",
              "      <td>0</td>\n",
              "    </tr>\n",
              "    <tr>\n",
              "      <th>Ball1</th>\n",
              "      <td>0</td>\n",
              "    </tr>\n",
              "    <tr>\n",
              "      <th>Ball2</th>\n",
              "      <td>0</td>\n",
              "    </tr>\n",
              "    <tr>\n",
              "      <th>Ball3</th>\n",
              "      <td>0</td>\n",
              "    </tr>\n",
              "    <tr>\n",
              "      <th>Ball4</th>\n",
              "      <td>0</td>\n",
              "    </tr>\n",
              "    <tr>\n",
              "      <th>Ball5</th>\n",
              "      <td>0</td>\n",
              "    </tr>\n",
              "    <tr>\n",
              "      <th>LuckyStar1</th>\n",
              "      <td>0</td>\n",
              "    </tr>\n",
              "    <tr>\n",
              "      <th>LuckyStar2</th>\n",
              "      <td>0</td>\n",
              "    </tr>\n",
              "  </tbody>\n",
              "</table>\n",
              "</div><br><label><b>dtype:</b> int64</label>"
            ]
          },
          "metadata": {},
          "execution_count": 84
        }
      ]
    },
    {
      "cell_type": "code",
      "source": [
        "print(eurodf)"
      ],
      "metadata": {
        "colab": {
          "base_uri": "https://localhost:8080/"
        },
        "id": "1EyPd37rjRle",
        "outputId": "8c543331-0bc4-4a2c-8f1d-86cc5cb001ec"
      },
      "execution_count": 83,
      "outputs": [
        {
          "output_type": "stream",
          "name": "stdout",
          "text": [
            "       DrawDate  Ball1  Ball2  Ball3  Ball4  Ball5  LuckyStar1  LuckyStar2\n",
            "0    2024-07-26     35     37     23     19      4           8           4\n",
            "1    2024-07-23      8     10     16     34      4           8           4\n",
            "2    2024-07-19     44     22     35     48     15           6           7\n",
            "3    2024-07-16     39     35      2     36     32           7           8\n",
            "4    2024-07-12     12     39     24     25     18          10           8\n",
            "...         ...    ...    ...    ...    ...    ...         ...         ...\n",
            "1804 2025-02-04      3      4     29     39     43           5          10\n",
            "1805 2025-01-31     22     30     41     44     49           2           7\n",
            "1806 2025-01-28      9     37     41     42     49           1           9\n",
            "1807 2025-01-24      2     11     19     30     49           3           8\n",
            "1808 2025-01-21      6      8     14     27     41           4           5\n",
            "\n",
            "[1809 rows x 8 columns]\n"
          ]
        }
      ]
    },
    {
      "cell_type": "markdown",
      "source": [
        "#save dataframe as csv file"
      ],
      "metadata": {
        "id": "20Gor8H32Yiq"
      }
    },
    {
      "cell_type": "code",
      "source": [
        "eurodf.to_csv('eurodf.csv', index=False)"
      ],
      "metadata": {
        "id": "DHRGo1VD2Wyv"
      },
      "execution_count": 85,
      "outputs": []
    }
  ]
}